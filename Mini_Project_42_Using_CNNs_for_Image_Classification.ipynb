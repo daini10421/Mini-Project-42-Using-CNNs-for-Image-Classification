{
  "metadata": {
    "kernelspec": {
      "language": "python",
      "display_name": "Python 3",
      "name": "python3"
    },
    "language_info": {
      "pygments_lexer": "ipython3",
      "nbconvert_exporter": "python",
      "version": "3.6.4",
      "file_extension": ".py",
      "codemirror_mode": {
        "name": "ipython",
        "version": 3
      },
      "name": "python",
      "mimetype": "text/x-python"
    },
    "colab": {
      "provenance": [],
      "include_colab_link": true
    }
  },
  "nbformat_minor": 0,
  "nbformat": 4,
  "cells": [
    {
      "cell_type": "markdown",
      "metadata": {
        "id": "view-in-github",
        "colab_type": "text"
      },
      "source": [
        "<a href=\"https://colab.research.google.com/github/daini10421/Mini-Project-42-Using-CNNs-for-Image-Classification/blob/main/Mini_Project_42_Using_CNNs_for_Image_Classification.ipynb\" target=\"_parent\"><img src=\"https://colab.research.google.com/assets/colab-badge.svg\" alt=\"Open In Colab\"/></a>"
      ]
    },
    {
      "cell_type": "markdown",
      "source": [
        "# Convolutional Neural Networks for a multiclass classification"
      ],
      "metadata": {
        "_uuid": "8f2839f25d086af736a60e9eeb907d3b93b6e0e5",
        "_cell_guid": "b1076dfc-b9ad-4769-8c92-a6c4dae69d19",
        "id": "lJEHsnBiKr_O"
      }
    },
    {
      "cell_type": "markdown",
      "source": [
        "## This notebook will cover the following two major topics :\n",
        "\n",
        "- Understand the basic concepts of CNN model\n",
        "- Implement CNN model in realtime using Fashion MNIST dataset\n"
      ],
      "metadata": {
        "id": "Guezk_GFKr_R"
      }
    },
    {
      "cell_type": "markdown",
      "source": [
        "# CNN Model\n",
        "\n",
        "### Three basic components to define a basic convolutional neural network.\n",
        "\n",
        "- The Convolutional Layer\n",
        "- The Pooling layer\n",
        "- The Output layer"
      ],
      "metadata": {
        "id": "6AJ7age6Kr_S"
      }
    },
    {
      "cell_type": "markdown",
      "source": [
        "<img src=\"https://www.researchgate.net/publication/336805909/figure/fig1/AS:817888827023360@1572011300751/Schematic-diagram-of-a-basic-convolutional-neural-network-CNN-architecture-26.ppm\" />"
      ],
      "metadata": {
        "id": "cAXnvh8hKr_S"
      }
    },
    {
      "cell_type": "markdown",
      "source": [
        "## The Convolutional Layer:\n",
        "In a convolutional layer, we use a weight matrix to extract specific features from an image. The weight matrix is like a filter that moves across the image, covering all the pixels. By multiplying the weight matrix with the corresponding part of the input image and adding the results, we obtain a convolved output. This process helps in sharing parameters and extracting useful features from the image. As we add more convolutional layers, the features extracted become more complex and specific."
      ],
      "metadata": {
        "id": "jb5eblxtKr_S"
      }
    },
    {
      "cell_type": "markdown",
      "source": [
        "![image.png](attachment:562e633a-94f0-4d55-90a6-44d561ef29e4.png)"
      ],
      "metadata": {
        "id": "qigplVFgKr_S"
      }
    },
    {
      "cell_type": "markdown",
      "source": [
        "# The Pooling Layer:\n",
        "Pooling layers are used to reduce the size of images and the number of parameters in a network. The most common type is max pooling, where the maximum value within a specific region is taken. By applying pooling independently to each depth dimension, the depth remains the same while the spatial size of the image decreases. This helps in retaining important information while reducing computational complexity.\n",
        "\n"
      ],
      "metadata": {
        "id": "eK4TV6CsKr_S"
      }
    },
    {
      "cell_type": "markdown",
      "source": [
        "<img src=\"https://miro.medium.com/v2/resize:fit:990/1*hOI0jW3CcS_yuxcmJIYjKw.gif\" />"
      ],
      "metadata": {
        "id": "xDAsThNMKr_S"
      }
    },
    {
      "cell_type": "markdown",
      "source": [
        "# The Output Layer:\n",
        "The output layer is the final layer of a convolutional neural network (CNN). It takes the output from previous layers and generates the final prediction. To do this, a fully connected layer is used, which maps the input to the desired number of classes. The output layer has a loss function, such as categorical cross-entropy, to measure the error in the prediction. Through backpropagation, the weights and biases of the network are updated to minimize the error and improve the accuracy of the predictions."
      ],
      "metadata": {
        "id": "q21i7jHkKr_T"
      }
    },
    {
      "cell_type": "markdown",
      "source": [
        "# Fashion MNIST Dataset"
      ],
      "metadata": {
        "id": "ZEcB0_0mKr_T"
      }
    },
    {
      "cell_type": "markdown",
      "source": [
        "Fashion-MNIST is a dataset of Zalando's article images—consisting of a training set of 60,000 examples and a test set of 10,000 examples. Each example is a 28x28 grayscale image, associated with a label from 10 classes. Zalando intends Fashion-MNIST to serve as a direct drop-in replacement for the original MNIST dataset for benchmarking machine learning algorithms. It shares the same image size and structure of training and testing splits."
      ],
      "metadata": {
        "id": "Ct45afQMKr_T"
      }
    },
    {
      "cell_type": "markdown",
      "source": [
        "## Labels\n",
        "Each training and test example is assigned to one of the following labels:\n",
        "\n",
        "- 0 T-shirt/top\n",
        "- 1 Trouser\n",
        "- 2 Pullover\n",
        "- 3 Dress\n",
        "- 4 Coat\n",
        "- 5 Sandal\n",
        "- 6 Shirt\n",
        "- 7 Sneaker\n",
        "- 8 Bag\n",
        "- 9 Ankle boot"
      ],
      "metadata": {
        "id": "dZsILjlyKr_T"
      }
    },
    {
      "cell_type": "markdown",
      "source": [
        "## Dataset in 3-D space\n",
        "<img src=\"https://github.com/zalandoresearch/fashion-mnist/blob/master/doc/img/embedding.gif?raw=true\" />"
      ],
      "metadata": {
        "id": "CbiMGHUgKr_T"
      }
    },
    {
      "cell_type": "markdown",
      "source": [
        "# Implement CNN model in realtime using Fashion MNIST dataset"
      ],
      "metadata": {
        "id": "t_M8wrISKr_U"
      }
    },
    {
      "cell_type": "markdown",
      "source": [
        "# 1. Import Libraries"
      ],
      "metadata": {
        "id": "XvQ9TqdTKr_U"
      }
    },
    {
      "cell_type": "code",
      "source": [
        "import pandas as pd\n",
        "import numpy as np\n",
        "import warnings\n",
        "warnings.filterwarnings('ignore')\n",
        "import matplotlib.pyplot as plt\n",
        "from sklearn.model_selection import train_test_split\n",
        "import keras\n",
        "from keras.models import Sequential\n",
        "from keras.layers import Conv2D,MaxPooling2D,Dense,Flatten,Dropout\n",
        "from keras.optimizers import Adam\n",
        "from keras.callbacks import TensorBoard\n",
        "num_classes = 10\n",
        "epochs = 20\n"
      ],
      "metadata": {
        "execution": {
          "iopub.status.busy": "2023-07-01T08:19:41.829455Z",
          "iopub.execute_input": "2023-07-01T08:19:41.829852Z",
          "iopub.status.idle": "2023-07-01T08:19:45.399432Z",
          "shell.execute_reply.started": "2023-07-01T08:19:41.829821Z",
          "shell.execute_reply": "2023-07-01T08:19:45.398424Z"
        },
        "trusted": true,
        "id": "a-rXDOZnKr_U"
      },
      "execution_count": null,
      "outputs": []
    },
    {
      "cell_type": "markdown",
      "source": [
        "# 2 Getting the Dataset ready\n",
        "# 2.1 Read the Dataset"
      ],
      "metadata": {
        "id": "bF2A7e6iKr_V"
      }
    },
    {
      "cell_type": "code",
      "source": [
        "train_df = pd.read_csv('../input/fashionmnist/fashion-mnist_train.csv',sep=',')\n",
        "test_df = pd.read_csv('../input/fashionmnist/fashion-mnist_test.csv', sep = ',')"
      ],
      "metadata": {
        "execution": {
          "iopub.status.busy": "2023-07-01T08:19:45.401373Z",
          "iopub.execute_input": "2023-07-01T08:19:45.402276Z",
          "iopub.status.idle": "2023-07-01T08:19:51.745343Z",
          "shell.execute_reply.started": "2023-07-01T08:19:45.40221Z",
          "shell.execute_reply": "2023-07-01T08:19:51.744251Z"
        },
        "trusted": true,
        "id": "dhJV9xASKr_V"
      },
      "execution_count": null,
      "outputs": []
    },
    {
      "cell_type": "code",
      "source": [
        "train_df.head()"
      ],
      "metadata": {
        "execution": {
          "iopub.status.busy": "2023-07-01T08:19:51.746561Z",
          "iopub.execute_input": "2023-07-01T08:19:51.747106Z",
          "iopub.status.idle": "2023-07-01T08:19:51.774424Z",
          "shell.execute_reply.started": "2023-07-01T08:19:51.747073Z",
          "shell.execute_reply": "2023-07-01T08:19:51.773435Z"
        },
        "trusted": true,
        "id": "kd8V0ZNXKr_V"
      },
      "execution_count": null,
      "outputs": []
    },
    {
      "cell_type": "markdown",
      "source": [
        "# 2.2 Preprocessing"
      ],
      "metadata": {
        "id": "IruY4G5GKr_V"
      }
    },
    {
      "cell_type": "code",
      "source": [
        "train_data = np.array(train_df, dtype = 'float32')\n",
        "test_data = np.array(test_df, dtype='float32')"
      ],
      "metadata": {
        "execution": {
          "iopub.status.busy": "2023-07-01T08:19:51.776992Z",
          "iopub.execute_input": "2023-07-01T08:19:51.777983Z",
          "iopub.status.idle": "2023-07-01T08:19:51.948912Z",
          "shell.execute_reply.started": "2023-07-01T08:19:51.777946Z",
          "shell.execute_reply": "2023-07-01T08:19:51.947873Z"
        },
        "trusted": true,
        "id": "CSaSPLO3Kr_V"
      },
      "execution_count": null,
      "outputs": []
    },
    {
      "cell_type": "markdown",
      "source": [
        "#### Important Note : Since the image data in x_train and x_test is from 0 to 255 , we need to rescale this from 0 to 1.To do this we need to divide the x_train and x_test by 255 . It's important that the training set and the testing set be preprocessed in the same way"
      ],
      "metadata": {
        "id": "_qY6P0ZqKr_V"
      }
    },
    {
      "cell_type": "code",
      "source": [
        "x_train = train_data[:,1:]/255\n",
        "\n",
        "y_train = train_data[:,0]\n",
        "\n",
        "x_test= test_data[:,1:]/255\n",
        "\n",
        "y_test=test_data[:,0]"
      ],
      "metadata": {
        "execution": {
          "iopub.status.busy": "2023-07-01T08:19:51.950445Z",
          "iopub.execute_input": "2023-07-01T08:19:51.950907Z",
          "iopub.status.idle": "2023-07-01T08:19:52.018647Z",
          "shell.execute_reply.started": "2023-07-01T08:19:51.950871Z",
          "shell.execute_reply": "2023-07-01T08:19:52.017606Z"
        },
        "trusted": true,
        "id": "AS8TQbFGKr_V"
      },
      "execution_count": null,
      "outputs": []
    },
    {
      "cell_type": "markdown",
      "source": [
        "# 2.3 Train Test Val Split"
      ],
      "metadata": {
        "id": "P2T6sgRuKr_V"
      }
    },
    {
      "cell_type": "code",
      "source": [
        "x_train,x_validate,y_train,y_validate = train_test_split(x_train,y_train,test_size = 0.2,random_state = 42)"
      ],
      "metadata": {
        "execution": {
          "iopub.status.busy": "2023-07-01T08:19:52.021108Z",
          "iopub.execute_input": "2023-07-01T08:19:52.022308Z",
          "iopub.status.idle": "2023-07-01T08:19:52.539252Z",
          "shell.execute_reply.started": "2023-07-01T08:19:52.022267Z",
          "shell.execute_reply": "2023-07-01T08:19:52.53822Z"
        },
        "trusted": true,
        "id": "BUqAENjPKr_V"
      },
      "execution_count": null,
      "outputs": []
    },
    {
      "cell_type": "markdown",
      "source": [
        "# 2.4 Visualization"
      ],
      "metadata": {
        "id": "QuAAF6kbKr_V"
      }
    },
    {
      "cell_type": "code",
      "source": [
        "class_names = ['T_shirt/top', 'Trouser', 'Pullover', 'Dress', 'Coat',\n",
        "               'Sandal', 'Shirt', 'Sneaker', 'Bag', 'Ankle boot']\n",
        "plt.figure(figsize=(10, 10))\n",
        "for i in range(36):\n",
        "    plt.subplot(6, 6, i + 1)\n",
        "    plt.xticks([])\n",
        "    plt.yticks([])\n",
        "    plt.grid(False)\n",
        "    plt.imshow(x_train[i].reshape((28,28)))\n",
        "    label_index = int(y_train[i])\n",
        "    plt.title(class_names[label_index])\n",
        "plt.show()"
      ],
      "metadata": {
        "execution": {
          "iopub.status.busy": "2023-07-01T08:19:52.540779Z",
          "iopub.execute_input": "2023-07-01T08:19:52.541302Z",
          "iopub.status.idle": "2023-07-01T08:19:54.57173Z",
          "shell.execute_reply.started": "2023-07-01T08:19:52.541264Z",
          "shell.execute_reply": "2023-07-01T08:19:54.570794Z"
        },
        "trusted": true,
        "id": "CyaBsv8bKr_W"
      },
      "execution_count": null,
      "outputs": []
    },
    {
      "cell_type": "markdown",
      "source": [
        "# 2.5 Reshaping to the correct size"
      ],
      "metadata": {
        "id": "-SB2pwFaKr_W"
      }
    },
    {
      "cell_type": "code",
      "source": [
        "image_rows = 28\n",
        "image_cols = 28\n",
        "batch_size = 4096\n",
        "image_shape = (image_rows,image_cols,1)"
      ],
      "metadata": {
        "execution": {
          "iopub.status.busy": "2023-07-01T08:19:54.572768Z",
          "iopub.execute_input": "2023-07-01T08:19:54.573114Z",
          "iopub.status.idle": "2023-07-01T08:19:54.578323Z",
          "shell.execute_reply.started": "2023-07-01T08:19:54.573083Z",
          "shell.execute_reply": "2023-07-01T08:19:54.577407Z"
        },
        "trusted": true,
        "id": "5M3_tZn6Kr_W"
      },
      "execution_count": null,
      "outputs": []
    },
    {
      "cell_type": "code",
      "source": [
        "x_train = x_train.reshape(x_train.shape[0],*image_shape)\n",
        "x_test = x_test.reshape(x_test.shape[0],*image_shape)\n",
        "x_validate = x_validate.reshape(x_validate.shape[0],*image_shape)\n"
      ],
      "metadata": {
        "execution": {
          "iopub.status.busy": "2023-07-01T08:19:54.58034Z",
          "iopub.execute_input": "2023-07-01T08:19:54.581048Z",
          "iopub.status.idle": "2023-07-01T08:19:54.59567Z",
          "shell.execute_reply.started": "2023-07-01T08:19:54.581016Z",
          "shell.execute_reply": "2023-07-01T08:19:54.594493Z"
        },
        "trusted": true,
        "id": "u1qU9WRTKr_W"
      },
      "execution_count": null,
      "outputs": []
    },
    {
      "cell_type": "markdown",
      "source": [
        "# 3 CNN Model\n",
        "# 3.1 Defining the Model\n",
        "\n",
        "- Convolutional Layer:\n",
        "    - We add a Conv2D layer with 32 filters, each having a 3x3 kernel size.\n",
        "    - ReLU activation function is applied to introduce non-linearity.\n",
        "    - The input shape of the first layer is specified as image_shape.\n",
        "\n",
        "- Max Pooling Layer:\n",
        "    - We add a MaxPooling2D layer to downsample the output by taking the maximum value in each 2x2 region.\n",
        "    - This reduces the spatial dimensions of the output to 14x14.\n",
        "\n",
        "- Dropout Layer:\n",
        "    - We add a Dropout layer with a rate of 0.2.\n",
        "    - During training, 20% of the neurons in the previous layer will be randomly disabled to prevent overfitting.\n",
        "\n",
        "- Flatten Layer:\n",
        "    - We add a Flatten layer to convert the multi-dimensional output into a 1-dimensional vector.\n",
        "    - This prepares the data for the fully connected layers.\n",
        "\n",
        "- Fully Connected Layer:\n",
        "    - We add a Dense layer with 32 units/neurons.\n",
        "    - ReLU activation function is applied to introduce non-linearity.\n",
        "\n",
        "- Output Layer:\n",
        "    - We add a final Dense layer with 10 units/neurons, representing the number of classes in the classification task.\n",
        "    - Softmax activation function is applied to obtain class probabilities."
      ],
      "metadata": {
        "id": "foG4bFBnKr_W"
      }
    },
    {
      "cell_type": "code",
      "source": [
        "# Create a Sequential model\n",
        "cnn_model = Sequential([\n",
        "    Conv2D(filters=32, kernel_size=3, activation='relu', input_shape=image_shape),\n",
        "    # Add a convolutional layer with 32 filters, each having a 3x3 kernel size\n",
        "    # Apply ReLU activation function to introduce non-linearity\n",
        "    # Specify the input shape of the first layer as 'image_shape'\n",
        "\n",
        "    MaxPooling2D(pool_size=2),\n",
        "    # Add a max pooling layer to downsample the output by taking the maximum value in each 2x2 region\n",
        "    # Reduces the spatial dimensions, resulting in a 14x14 output\n",
        "\n",
        "    Dropout(0.2),\n",
        "    # Add a dropout layer to randomly disable 20% of the neurons during training\n",
        "    # Helps prevent overfitting by reducing co-adaptation between neurons\n",
        "\n",
        "    Flatten(),\n",
        "    # Flatten the multi-dimensional output into a 1-dimensional vector\n",
        "    # Converts the output into a suitable format for feeding into a fully connected layer\n",
        "\n",
        "    Dense(32, activation='relu'),\n",
        "    # Add a fully connected layer with 32 units/neurons\n",
        "    # Apply ReLU activation function to introduce non-linearity\n",
        "\n",
        "    Dense(10, activation='softmax')\n",
        "    # Add a final fully connected layer with 10 units/neurons (corresponding to the number of classes)\n",
        "    # Apply softmax activation function to obtain class probabilities\n",
        "])\n"
      ],
      "metadata": {
        "execution": {
          "iopub.status.busy": "2023-07-01T08:19:54.60021Z",
          "iopub.execute_input": "2023-07-01T08:19:54.600607Z",
          "iopub.status.idle": "2023-07-01T08:19:57.371062Z",
          "shell.execute_reply.started": "2023-07-01T08:19:54.600578Z",
          "shell.execute_reply": "2023-07-01T08:19:57.370092Z"
        },
        "trusted": true,
        "id": "_5evMk-_Kr_W"
      },
      "execution_count": null,
      "outputs": []
    },
    {
      "cell_type": "code",
      "source": [
        "cnn_model.compile(loss ='sparse_categorical_crossentropy', optimizer=Adam(lr=0.001),metrics =['accuracy'])"
      ],
      "metadata": {
        "execution": {
          "iopub.status.busy": "2023-07-01T08:19:57.372892Z",
          "iopub.execute_input": "2023-07-01T08:19:57.373292Z",
          "iopub.status.idle": "2023-07-01T08:19:57.393074Z",
          "shell.execute_reply.started": "2023-07-01T08:19:57.373254Z",
          "shell.execute_reply": "2023-07-01T08:19:57.391977Z"
        },
        "trusted": true,
        "id": "X7g-FIclKr_W"
      },
      "execution_count": null,
      "outputs": []
    },
    {
      "cell_type": "markdown",
      "source": [
        "# 3.2 Model Summary"
      ],
      "metadata": {
        "id": "TpJMP71JKr_W"
      }
    },
    {
      "cell_type": "code",
      "source": [
        "cnn_model.summary()"
      ],
      "metadata": {
        "execution": {
          "iopub.status.busy": "2023-07-01T08:19:57.394513Z",
          "iopub.execute_input": "2023-07-01T08:19:57.39511Z",
          "iopub.status.idle": "2023-07-01T08:19:57.420124Z",
          "shell.execute_reply.started": "2023-07-01T08:19:57.39507Z",
          "shell.execute_reply": "2023-07-01T08:19:57.419293Z"
        },
        "trusted": true,
        "id": "WhnDSyT5Kr_X"
      },
      "execution_count": null,
      "outputs": []
    },
    {
      "cell_type": "markdown",
      "source": [
        "# 3.3 Training the Model"
      ],
      "metadata": {
        "id": "dyFfxAsTKr_X"
      }
    },
    {
      "cell_type": "code",
      "source": [
        "%%time\n",
        "history = cnn_model.fit(\n",
        "    x_train,\n",
        "    y_train,\n",
        "    batch_size=4096,\n",
        "    epochs=75,\n",
        "    verbose=1,\n",
        "    validation_data=(x_validate,y_validate),\n",
        ")"
      ],
      "metadata": {
        "_kg_hide-output": true,
        "execution": {
          "iopub.status.busy": "2023-07-01T08:19:57.421275Z",
          "iopub.execute_input": "2023-07-01T08:19:57.421673Z",
          "iopub.status.idle": "2023-07-01T08:21:20.297128Z",
          "shell.execute_reply.started": "2023-07-01T08:19:57.421635Z",
          "shell.execute_reply": "2023-07-01T08:21:20.295606Z"
        },
        "trusted": true,
        "id": "vZj6RvSCKr_X"
      },
      "execution_count": null,
      "outputs": []
    },
    {
      "cell_type": "markdown",
      "source": [
        "# 3.4 Evaluating our model"
      ],
      "metadata": {
        "id": "JkqouKNKKr_X"
      }
    },
    {
      "cell_type": "code",
      "source": [
        "plt.figure(figsize=(10, 10))\n",
        "\n",
        "plt.subplot(2, 2, 1)\n",
        "plt.plot(history.history['loss'], label='Loss')\n",
        "plt.plot(history.history['val_loss'], label='Validation Loss')\n",
        "plt.legend()\n",
        "plt.title('Training - Loss Function')\n",
        "\n",
        "plt.subplot(2, 2, 2)\n",
        "plt.plot(history.history['accuracy'], label='Accuracy')\n",
        "plt.plot(history.history['val_accuracy'], label='Validation Accuracy')\n",
        "plt.legend()\n",
        "plt.title('Train - Accuracy')"
      ],
      "metadata": {
        "execution": {
          "iopub.status.busy": "2023-07-01T08:21:20.299183Z",
          "iopub.execute_input": "2023-07-01T08:21:20.299636Z",
          "iopub.status.idle": "2023-07-01T08:21:20.908512Z",
          "shell.execute_reply.started": "2023-07-01T08:21:20.299597Z",
          "shell.execute_reply": "2023-07-01T08:21:20.907301Z"
        },
        "trusted": true,
        "id": "JHHig8R8Kr_X"
      },
      "execution_count": null,
      "outputs": []
    },
    {
      "cell_type": "markdown",
      "source": [
        "# 3.5 Testing the model on unseen data"
      ],
      "metadata": {
        "id": "Yok9f-6ZKr_Y"
      }
    },
    {
      "cell_type": "code",
      "source": [
        "score = cnn_model.evaluate(x_test,y_test,verbose=0)\n",
        "print('Test Accuracy : {:.2f}'.format(score[1]*100) + '%')"
      ],
      "metadata": {
        "execution": {
          "iopub.status.busy": "2023-07-01T08:21:20.91021Z",
          "iopub.execute_input": "2023-07-01T08:21:20.910601Z",
          "iopub.status.idle": "2023-07-01T08:21:21.79004Z",
          "shell.execute_reply.started": "2023-07-01T08:21:20.910569Z",
          "shell.execute_reply": "2023-07-01T08:21:21.788933Z"
        },
        "trusted": true,
        "id": "P4Q2Oy2-Kr_Y"
      },
      "execution_count": null,
      "outputs": []
    },
    {
      "cell_type": "markdown",
      "source": [
        "# 3.6 Visualize some test labels"
      ],
      "metadata": {
        "id": "9luGTT2CKr_Y"
      }
    },
    {
      "cell_type": "code",
      "source": [
        "predicted_probabilities = cnn_model.predict(x_test)\n",
        "predicted_classes = np.argmax(predicted_probabilities, axis=1)\n",
        "\n",
        "L = 5\n",
        "W = 5\n",
        "fig, axes = plt.subplots(L, W, figsize = (12,12))\n",
        "axes = axes.ravel()\n",
        "\n",
        "for i in np.arange(0, L * W):\n",
        "    axes[i].imshow(x_test[i].reshape(28,28))\n",
        "    axes[i].set_title(f\"Prediction Class = {predicted_classes[i]:0.1f}\\n Original Class = {y_test[i]:0.1f}\")\n",
        "    axes[i].axis('off')\n",
        "\n",
        "plt.subplots_adjust(wspace=0.5)"
      ],
      "metadata": {
        "execution": {
          "iopub.status.busy": "2023-07-01T08:21:21.791396Z",
          "iopub.execute_input": "2023-07-01T08:21:21.792517Z",
          "iopub.status.idle": "2023-07-01T08:21:26.010969Z",
          "shell.execute_reply.started": "2023-07-01T08:21:21.792479Z",
          "shell.execute_reply": "2023-07-01T08:21:26.010048Z"
        },
        "trusted": true,
        "id": "rRUI3B96Kr_Y"
      },
      "execution_count": null,
      "outputs": []
    },
    {
      "cell_type": "markdown",
      "source": [
        "# Thank You for reading"
      ],
      "metadata": {
        "id": "CreLrfeDKr_Y"
      }
    }
  ]
}